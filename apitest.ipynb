{
 "cells": [
  {
   "attachments": {},
   "cell_type": "markdown",
   "metadata": {},
   "source": [
    "## API TEST "
   ]
  },
  {
   "attachments": {},
   "cell_type": "markdown",
   "metadata": {},
   "source": [
    "Utilisation de la Clé API"
   ]
  },
  {
   "cell_type": "code",
   "execution_count": 18,
   "metadata": {},
   "outputs": [],
   "source": [
    "import requests\n",
    "import pandas as pd\n",
    "\n",
    "api_key = \"e0a1bf2c844edb9084efc764c089dd748676cc14\"\n"
   ]
  },
  {
   "attachments": {},
   "cell_type": "markdown",
   "metadata": {},
   "source": [
    "Tests et utilisation des urls pour la récupération des données des stations ainsi que de leurs détails"
   ]
  },
  {
   "cell_type": "code",
   "execution_count": 19,
   "metadata": {},
   "outputs": [],
   "source": [
    "contract = \"nantes\"\n",
    "url_test = \"https://api.jcdecaux.com/vls/v1/stations?contract={contract_name}&apiKey={api_key}\".format(contract_name = contract , api_key = api_key )\n",
    "url_contract = \"https://api.jcdecaux.com/vls/v3/contracts?apiKey={api_key}\".format(api_key = api_key )\n",
    "# print(url_test)\n",
    "url_stations = \"https://api.jcdecaux.com/vls/v1/stations?apiKey={api_key}\".format(api_key = api_key )\n",
    "url_details_stations = \"https://api.jcdecaux.com/vls/v3/stations/{station_number}?contract={contract_name}&apiKey={api_key}\""
   ]
  },
  {
   "attachments": {},
   "cell_type": "markdown",
   "metadata": {},
   "source": [
    "Test de la réussite de la récupération des données de l'url station"
   ]
  },
  {
   "cell_type": "code",
   "execution_count": 5,
   "metadata": {},
   "outputs": [
    {
     "name": "stdout",
     "output_type": "stream",
     "text": [
      "200\n"
     ]
    }
   ],
   "source": [
    "rep = requests.get(url_stations)\n",
    "print(rep.status_code)"
   ]
  },
  {
   "attachments": {},
   "cell_type": "markdown",
   "metadata": {},
   "source": [
    "Affichages des informations de mon dataframe"
   ]
  },
  {
   "cell_type": "code",
   "execution_count": 13,
   "metadata": {},
   "outputs": [
    {
     "name": "stdout",
     "output_type": "stream",
     "text": [
      "<class 'pandas.core.frame.DataFrame'>\n",
      "RangeIndex: 2452 entries, 0 to 2451\n",
      "Data columns (total 12 columns):\n",
      " #   Column                 Non-Null Count  Dtype  \n",
      "---  ------                 --------------  -----  \n",
      " 0   number                 2452 non-null   int64  \n",
      " 1   contract_name          2452 non-null   object \n",
      " 2   name                   2452 non-null   object \n",
      " 3   address                2452 non-null   object \n",
      " 4   position               2452 non-null   object \n",
      " 5   banking                2452 non-null   bool   \n",
      " 6   bonus                  2452 non-null   bool   \n",
      " 7   bike_stands            2452 non-null   int64  \n",
      " 8   available_bike_stands  2452 non-null   int64  \n",
      " 9   available_bikes        2452 non-null   int64  \n",
      " 10  status                 2452 non-null   object \n",
      " 11  last_update            2451 non-null   float64\n",
      "dtypes: bool(2), float64(1), int64(4), object(5)\n",
      "memory usage: 196.5+ KB\n"
     ]
    }
   ],
   "source": [
    "df = pd.DataFrame.from_records(rep.json())\n",
    "df.info()"
   ]
  },
  {
   "attachments": {},
   "cell_type": "markdown",
   "metadata": {},
   "source": [
    "Affichage des premières lignes de mon DataFrame"
   ]
  },
  {
   "cell_type": "code",
   "execution_count": 16,
   "metadata": {},
   "outputs": [
    {
     "data": {
      "text/html": [
       "<div>\n",
       "<style scoped>\n",
       "    .dataframe tbody tr th:only-of-type {\n",
       "        vertical-align: middle;\n",
       "    }\n",
       "\n",
       "    .dataframe tbody tr th {\n",
       "        vertical-align: top;\n",
       "    }\n",
       "\n",
       "    .dataframe thead th {\n",
       "        text-align: right;\n",
       "    }\n",
       "</style>\n",
       "<table border=\"1\" class=\"dataframe\">\n",
       "  <thead>\n",
       "    <tr style=\"text-align: right;\">\n",
       "      <th></th>\n",
       "      <th>number</th>\n",
       "      <th>contract_name</th>\n",
       "      <th>name</th>\n",
       "      <th>address</th>\n",
       "      <th>position</th>\n",
       "      <th>banking</th>\n",
       "      <th>bonus</th>\n",
       "      <th>bike_stands</th>\n",
       "      <th>available_bike_stands</th>\n",
       "      <th>available_bikes</th>\n",
       "      <th>status</th>\n",
       "      <th>last_update</th>\n",
       "    </tr>\n",
       "  </thead>\n",
       "  <tbody>\n",
       "    <tr>\n",
       "      <th>0</th>\n",
       "      <td>55</td>\n",
       "      <td>toulouse</td>\n",
       "      <td>00055 - SAINT-SERNIN - G. ARNOULT</td>\n",
       "      <td>2 RUE GATIEN ARNOULT</td>\n",
       "      <td>{'lat': 43.609022, 'lng': 1.441105}</td>\n",
       "      <td>True</td>\n",
       "      <td>False</td>\n",
       "      <td>15</td>\n",
       "      <td>0</td>\n",
       "      <td>15</td>\n",
       "      <td>OPEN</td>\n",
       "      <td>1.680902e+12</td>\n",
       "    </tr>\n",
       "    <tr>\n",
       "      <th>1</th>\n",
       "      <td>59</td>\n",
       "      <td>ljubljana</td>\n",
       "      <td>LIDL BEŽIGRAD</td>\n",
       "      <td>Bežigrad 11</td>\n",
       "      <td>{'lat': 46.063797, 'lng': 14.506854}</td>\n",
       "      <td>False</td>\n",
       "      <td>False</td>\n",
       "      <td>20</td>\n",
       "      <td>2</td>\n",
       "      <td>17</td>\n",
       "      <td>OPEN</td>\n",
       "      <td>1.680902e+12</td>\n",
       "    </tr>\n",
       "    <tr>\n",
       "      <th>2</th>\n",
       "      <td>2010</td>\n",
       "      <td>lyon</td>\n",
       "      <td>2010 - CONFLUENCE / DARSE</td>\n",
       "      <td>ANGLE ALLEE ANDRE MURE ET QUAI ANTOINE RIBOUD</td>\n",
       "      <td>{'lat': 45.743317, 'lng': 4.815747}</td>\n",
       "      <td>True</td>\n",
       "      <td>False</td>\n",
       "      <td>22</td>\n",
       "      <td>11</td>\n",
       "      <td>11</td>\n",
       "      <td>OPEN</td>\n",
       "      <td>1.680902e+12</td>\n",
       "    </tr>\n",
       "    <tr>\n",
       "      <th>3</th>\n",
       "      <td>5015</td>\n",
       "      <td>lyon</td>\n",
       "      <td>5015 - FULCHIRON</td>\n",
       "      <td>Devant le n°41 rue de la Quarantaine</td>\n",
       "      <td>{'lat': 45.75197, 'lng': 4.821662}</td>\n",
       "      <td>True</td>\n",
       "      <td>False</td>\n",
       "      <td>19</td>\n",
       "      <td>18</td>\n",
       "      <td>1</td>\n",
       "      <td>OPEN</td>\n",
       "      <td>1.680902e+12</td>\n",
       "    </tr>\n",
       "    <tr>\n",
       "      <th>4</th>\n",
       "      <td>42</td>\n",
       "      <td>dublin</td>\n",
       "      <td>SMITHFIELD NORTH</td>\n",
       "      <td>Smithfield North</td>\n",
       "      <td>{'lat': 53.349562, 'lng': -6.278198}</td>\n",
       "      <td>False</td>\n",
       "      <td>False</td>\n",
       "      <td>30</td>\n",
       "      <td>4</td>\n",
       "      <td>26</td>\n",
       "      <td>OPEN</td>\n",
       "      <td>1.680902e+12</td>\n",
       "    </tr>\n",
       "  </tbody>\n",
       "</table>\n",
       "</div>"
      ],
      "text/plain": [
       "   number contract_name                               name   \n",
       "0      55      toulouse  00055 - SAINT-SERNIN - G. ARNOULT  \\\n",
       "1      59     ljubljana                      LIDL BEŽIGRAD   \n",
       "2    2010          lyon          2010 - CONFLUENCE / DARSE   \n",
       "3    5015          lyon                   5015 - FULCHIRON   \n",
       "4      42        dublin                   SMITHFIELD NORTH   \n",
       "\n",
       "                                         address   \n",
       "0                           2 RUE GATIEN ARNOULT  \\\n",
       "1                                    Bežigrad 11   \n",
       "2  ANGLE ALLEE ANDRE MURE ET QUAI ANTOINE RIBOUD   \n",
       "3           Devant le n°41 rue de la Quarantaine   \n",
       "4                               Smithfield North   \n",
       "\n",
       "                               position  banking  bonus  bike_stands   \n",
       "0   {'lat': 43.609022, 'lng': 1.441105}     True  False           15  \\\n",
       "1  {'lat': 46.063797, 'lng': 14.506854}    False  False           20   \n",
       "2   {'lat': 45.743317, 'lng': 4.815747}     True  False           22   \n",
       "3    {'lat': 45.75197, 'lng': 4.821662}     True  False           19   \n",
       "4  {'lat': 53.349562, 'lng': -6.278198}    False  False           30   \n",
       "\n",
       "   available_bike_stands  available_bikes status   last_update  \n",
       "0                      0               15   OPEN  1.680902e+12  \n",
       "1                      2               17   OPEN  1.680902e+12  \n",
       "2                     11               11   OPEN  1.680902e+12  \n",
       "3                     18                1   OPEN  1.680902e+12  \n",
       "4                      4               26   OPEN  1.680902e+12  "
      ]
     },
     "execution_count": 16,
     "metadata": {},
     "output_type": "execute_result"
    }
   ],
   "source": [
    "df.head()"
   ]
  },
  {
   "attachments": {},
   "cell_type": "markdown",
   "metadata": {},
   "source": [
    "Affichage d'un résumé statistique des données de mon DataFrame. "
   ]
  },
  {
   "attachments": {},
   "cell_type": "markdown",
   "metadata": {},
   "source": [
    "Affichage de la moyenne, l'écart type, la médiane, les quartiles, la valeur minimale et la valeur maximale pour chaque colonne numérique du DataFrame."
   ]
  },
  {
   "attachments": {},
   "cell_type": "markdown",
   "metadata": {},
   "source": [
    "On pourrait donc dire par exemple qu'il y'a au maximum 70 stands de vélos dans les villes et qu'il y'a des villes qui ne disposent ni de vélos, ni de stands de vélos."
   ]
  },
  {
   "cell_type": "code",
   "execution_count": 26,
   "metadata": {},
   "outputs": [
    {
     "data": {
      "text/html": [
       "<div>\n",
       "<style scoped>\n",
       "    .dataframe tbody tr th:only-of-type {\n",
       "        vertical-align: middle;\n",
       "    }\n",
       "\n",
       "    .dataframe tbody tr th {\n",
       "        vertical-align: top;\n",
       "    }\n",
       "\n",
       "    .dataframe thead th {\n",
       "        text-align: right;\n",
       "    }\n",
       "</style>\n",
       "<table border=\"1\" class=\"dataframe\">\n",
       "  <thead>\n",
       "    <tr style=\"text-align: right;\">\n",
       "      <th></th>\n",
       "      <th>number</th>\n",
       "      <th>bike_stands</th>\n",
       "      <th>available_bike_stands</th>\n",
       "      <th>available_bikes</th>\n",
       "      <th>last_update</th>\n",
       "    </tr>\n",
       "  </thead>\n",
       "  <tbody>\n",
       "    <tr>\n",
       "      <th>count</th>\n",
       "      <td>2452.000000</td>\n",
       "      <td>2452.000000</td>\n",
       "      <td>2452.000000</td>\n",
       "      <td>2452.000000</td>\n",
       "      <td>2.451000e+03</td>\n",
       "    </tr>\n",
       "    <tr>\n",
       "      <th>mean</th>\n",
       "      <td>2416.073409</td>\n",
       "      <td>20.839723</td>\n",
       "      <td>11.532626</td>\n",
       "      <td>8.879690</td>\n",
       "      <td>1.680679e+12</td>\n",
       "    </tr>\n",
       "    <tr>\n",
       "      <th>std</th>\n",
       "      <td>7543.001302</td>\n",
       "      <td>6.795071</td>\n",
       "      <td>7.362846</td>\n",
       "      <td>6.655586</td>\n",
       "      <td>1.448516e+09</td>\n",
       "    </tr>\n",
       "    <tr>\n",
       "      <th>min</th>\n",
       "      <td>1.000000</td>\n",
       "      <td>0.000000</td>\n",
       "      <td>0.000000</td>\n",
       "      <td>0.000000</td>\n",
       "      <td>1.661873e+12</td>\n",
       "    </tr>\n",
       "    <tr>\n",
       "      <th>25%</th>\n",
       "      <td>39.000000</td>\n",
       "      <td>16.000000</td>\n",
       "      <td>6.000000</td>\n",
       "      <td>4.000000</td>\n",
       "      <td>1.680902e+12</td>\n",
       "    </tr>\n",
       "    <tr>\n",
       "      <th>50%</th>\n",
       "      <td>123.500000</td>\n",
       "      <td>20.000000</td>\n",
       "      <td>11.000000</td>\n",
       "      <td>8.000000</td>\n",
       "      <td>1.680902e+12</td>\n",
       "    </tr>\n",
       "    <tr>\n",
       "      <th>75%</th>\n",
       "      <td>287.250000</td>\n",
       "      <td>24.000000</td>\n",
       "      <td>15.250000</td>\n",
       "      <td>13.000000</td>\n",
       "      <td>1.680902e+12</td>\n",
       "    </tr>\n",
       "    <tr>\n",
       "      <th>max</th>\n",
       "      <td>56401.000000</td>\n",
       "      <td>70.000000</td>\n",
       "      <td>51.000000</td>\n",
       "      <td>46.000000</td>\n",
       "      <td>1.680903e+12</td>\n",
       "    </tr>\n",
       "  </tbody>\n",
       "</table>\n",
       "</div>"
      ],
      "text/plain": [
       "             number  bike_stands  available_bike_stands  available_bikes   \n",
       "count   2452.000000  2452.000000            2452.000000      2452.000000  \\\n",
       "mean    2416.073409    20.839723              11.532626         8.879690   \n",
       "std     7543.001302     6.795071               7.362846         6.655586   \n",
       "min        1.000000     0.000000               0.000000         0.000000   \n",
       "25%       39.000000    16.000000               6.000000         4.000000   \n",
       "50%      123.500000    20.000000              11.000000         8.000000   \n",
       "75%      287.250000    24.000000              15.250000        13.000000   \n",
       "max    56401.000000    70.000000              51.000000        46.000000   \n",
       "\n",
       "        last_update  \n",
       "count  2.451000e+03  \n",
       "mean   1.680679e+12  \n",
       "std    1.448516e+09  \n",
       "min    1.661873e+12  \n",
       "25%    1.680902e+12  \n",
       "50%    1.680902e+12  \n",
       "75%    1.680902e+12  \n",
       "max    1.680903e+12  "
      ]
     },
     "execution_count": 26,
     "metadata": {},
     "output_type": "execute_result"
    }
   ],
   "source": [
    "df.describe()"
   ]
  },
  {
   "attachments": {},
   "cell_type": "markdown",
   "metadata": {},
   "source": [
    "Classement des villes avec le plus de vélos"
   ]
  },
  {
   "cell_type": "code",
   "execution_count": 44,
   "metadata": {},
   "outputs": [
    {
     "data": {
      "text/plain": [
       "contract_name\n",
       "lyon              4063\n",
       "bruxelles         3915\n",
       "toulouse          2509\n",
       "seville           2419\n",
       "valence           2384\n",
       "dublin            1318\n",
       "nantes            1000\n",
       "luxembourg         963\n",
       "ljubljana          634\n",
       "nancy              271\n",
       "cergy-pontoise     265\n",
       "amiens             248\n",
       "rouen              242\n",
       "namur              220\n",
       "mulhouse           212\n",
       "toyama             211\n",
       "maribor            206\n",
       "lund               206\n",
       "besancon           193\n",
       "santander          192\n",
       "creteil             63\n",
       "jcdecauxbike        24\n",
       "marseille           15\n",
       "lillestrom           0\n",
       "vilnius              0\n",
       "Name: available_bikes, dtype: int64"
      ]
     },
     "execution_count": 44,
     "metadata": {},
     "output_type": "execute_result"
    }
   ],
   "source": [
    "df.groupby(by=\"contract_name\", sort=True)[\"available_bikes\"].sum().sort_values(ascending=False)"
   ]
  },
  {
   "attachments": {},
   "cell_type": "markdown",
   "metadata": {},
   "source": [
    "Classement des villes avec le plus de stands de vélo au total"
   ]
  },
  {
   "cell_type": "code",
   "execution_count": 94,
   "metadata": {},
   "outputs": [
    {
     "data": {
      "text/plain": [
       "contract_name\n",
       "lyon              9185\n",
       "bruxelles         8397\n",
       "toulouse          5673\n",
       "valence           5471\n",
       "seville           4740\n",
       "dublin            3646\n",
       "nantes            2480\n",
       "luxembourg        2389\n",
       "ljubljana         1666\n",
       "cergy-pontoise     849\n",
       "marseille          698\n",
       "nancy              650\n",
       "mulhouse           626\n",
       "vilnius            615\n",
       "amiens             571\n",
       "rouen              511\n",
       "maribor            501\n",
       "toyama             461\n",
       "lund               428\n",
       "namur              408\n",
       "besancon           400\n",
       "santander          370\n",
       "creteil            208\n",
       "lillestrom         120\n",
       "jcdecauxbike        36\n",
       "Name: bike_stands, dtype: int64"
      ]
     },
     "execution_count": 94,
     "metadata": {},
     "output_type": "execute_result"
    }
   ],
   "source": [
    "df.groupby(by=\"contract_name\", sort=True)[\"bike_stands\"].sum().sort_values(ascending=False)"
   ]
  },
  {
   "attachments": {},
   "cell_type": "markdown",
   "metadata": {},
   "source": [
    "Classement des villes avec le plus de stands de vélo utilisés"
   ]
  },
  {
   "cell_type": "code",
   "execution_count": 93,
   "metadata": {},
   "outputs": [
    {
     "data": {
      "text/plain": [
       "contract_name\n",
       "lyon              5011\n",
       "bruxelles         4328\n",
       "toulouse          3131\n",
       "valence           3038\n",
       "dublin            2301\n",
       "seville           2208\n",
       "nantes            1428\n",
       "luxembourg        1339\n",
       "ljubljana         1025\n",
       "cergy-pontoise     564\n",
       "vilnius            527\n",
       "marseille          453\n",
       "mulhouse           415\n",
       "nancy              377\n",
       "amiens             321\n",
       "maribor            293\n",
       "rouen              266\n",
       "toyama             249\n",
       "besancon           207\n",
       "lund               196\n",
       "namur              188\n",
       "santander          177\n",
       "creteil            122\n",
       "lillestrom         108\n",
       "jcdecauxbike         6\n",
       "Name: available_bike_stands, dtype: int64"
      ]
     },
     "execution_count": 93,
     "metadata": {},
     "output_type": "execute_result"
    }
   ],
   "source": [
    "df.groupby(by=\"contract_name\", sort=True)[\"available_bike_stands\"].sum().sort_values(ascending=False)"
   ]
  },
  {
   "attachments": {},
   "cell_type": "markdown",
   "metadata": {},
   "source": [
    "On remarque que Lyon est la ville qui dispose au total de plus de stations et de vélos que les autres villes."
   ]
  },
  {
   "attachments": {},
   "cell_type": "markdown",
   "metadata": {},
   "source": [
    "Détails d'une station à Toulouse en json"
   ]
  },
  {
   "cell_type": "code",
   "execution_count": 24,
   "metadata": {},
   "outputs": [
    {
     "data": {
      "text/plain": [
       "{'number': 55,\n",
       " 'contractName': 'toulouse',\n",
       " 'name': '00055 - SAINT-SERNIN - G. ARNOULT',\n",
       " 'address': '2 RUE GATIEN ARNOULT',\n",
       " 'position': {'latitude': 43.609022, 'longitude': 1.441105},\n",
       " 'banking': True,\n",
       " 'bonus': False,\n",
       " 'status': 'OPEN',\n",
       " 'lastUpdate': '2023-04-07T21:40:31Z',\n",
       " 'connected': True,\n",
       " 'overflow': False,\n",
       " 'shape': None,\n",
       " 'totalStands': {'availabilities': {'bikes': 15,\n",
       "   'stands': 0,\n",
       "   'mechanicalBikes': 15,\n",
       "   'electricalBikes': 0,\n",
       "   'electricalInternalBatteryBikes': 0,\n",
       "   'electricalRemovableBatteryBikes': 0},\n",
       "  'capacity': 15},\n",
       " 'mainStands': {'availabilities': {'bikes': 15,\n",
       "   'stands': 0,\n",
       "   'mechanicalBikes': 15,\n",
       "   'electricalBikes': 0,\n",
       "   'electricalInternalBatteryBikes': 0,\n",
       "   'electricalRemovableBatteryBikes': 0},\n",
       "  'capacity': 15},\n",
       " 'overflowStands': None}"
      ]
     },
     "execution_count": 24,
     "metadata": {},
     "output_type": "execute_result"
    }
   ],
   "source": [
    "url_station55_toulouse = url_details_stations.format(station_number = 55, contract_name = \"toulouse\" , api_key = api_key)\n",
    "rep = requests.get(url_station55_toulouse)\n",
    "rep.json()"
   ]
  },
  {
   "attachments": {},
   "cell_type": "markdown",
   "metadata": {},
   "source": [
    "Construction d'une liste d'URLs en appliquant une fonction lambda à chaque ligne du DataFrame où chaque URL contient les détails d'une station de vélo  spécifique."
   ]
  },
  {
   "cell_type": "code",
   "execution_count": 103,
   "metadata": {},
   "outputs": [],
   "source": [
    "urls = df.apply(lambda x:url_details_stations.format(station_number = x.number, contract_name = x.contract_name , api_key = api_key), axis=1)\n"
   ]
  },
  {
   "attachments": {},
   "cell_type": "markdown",
   "metadata": {},
   "source": [
    "Parcours de ces urls en les transformants en json sous forme de liste"
   ]
  },
  {
   "cell_type": "code",
   "execution_count": 104,
   "metadata": {},
   "outputs": [
    {
     "name": "stdout",
     "output_type": "stream",
     "text": [
      "fin de la boucle\n"
     ]
    }
   ],
   "source": [
    "data = list()\n",
    "for url in urls : \n",
    "    response = requests.get(url)\n",
    "    data.append(response.json())\n",
    "\n",
    "print(\"fin de la boucle\")"
   ]
  },
  {
   "attachments": {},
   "cell_type": "markdown",
   "metadata": {},
   "source": [
    "Transformation du json en un nouveau dataframe avec tous les détails"
   ]
  },
  {
   "cell_type": "code",
   "execution_count": 105,
   "metadata": {},
   "outputs": [
    {
     "data": {
      "text/html": [
       "<div>\n",
       "<style scoped>\n",
       "    .dataframe tbody tr th:only-of-type {\n",
       "        vertical-align: middle;\n",
       "    }\n",
       "\n",
       "    .dataframe tbody tr th {\n",
       "        vertical-align: top;\n",
       "    }\n",
       "\n",
       "    .dataframe thead th {\n",
       "        text-align: right;\n",
       "    }\n",
       "</style>\n",
       "<table border=\"1\" class=\"dataframe\">\n",
       "  <thead>\n",
       "    <tr style=\"text-align: right;\">\n",
       "      <th></th>\n",
       "      <th>number</th>\n",
       "      <th>contractName</th>\n",
       "      <th>name</th>\n",
       "      <th>address</th>\n",
       "      <th>banking</th>\n",
       "      <th>bonus</th>\n",
       "      <th>status</th>\n",
       "      <th>lastUpdate</th>\n",
       "      <th>connected</th>\n",
       "      <th>overflow</th>\n",
       "      <th>...</th>\n",
       "      <th>mainStands.availabilities.electricalRemovableBatteryBikes</th>\n",
       "      <th>mainStands.capacity</th>\n",
       "      <th>overflowStands.availabilities.bikes</th>\n",
       "      <th>overflowStands.availabilities.stands</th>\n",
       "      <th>overflowStands.availabilities.mechanicalBikes</th>\n",
       "      <th>overflowStands.availabilities.electricalBikes</th>\n",
       "      <th>overflowStands.availabilities.electricalInternalBatteryBikes</th>\n",
       "      <th>overflowStands.availabilities.electricalRemovableBatteryBikes</th>\n",
       "      <th>overflowStands.capacity</th>\n",
       "      <th>error</th>\n",
       "    </tr>\n",
       "  </thead>\n",
       "  <tbody>\n",
       "    <tr>\n",
       "      <th>0</th>\n",
       "      <td>55.0</td>\n",
       "      <td>toulouse</td>\n",
       "      <td>00055 - SAINT-SERNIN - G. ARNOULT</td>\n",
       "      <td>2 RUE GATIEN ARNOULT</td>\n",
       "      <td>True</td>\n",
       "      <td>False</td>\n",
       "      <td>OPEN</td>\n",
       "      <td>2023-04-08T17:20:01Z</td>\n",
       "      <td>True</td>\n",
       "      <td>False</td>\n",
       "      <td>...</td>\n",
       "      <td>0.0</td>\n",
       "      <td>15.0</td>\n",
       "      <td>NaN</td>\n",
       "      <td>NaN</td>\n",
       "      <td>NaN</td>\n",
       "      <td>NaN</td>\n",
       "      <td>NaN</td>\n",
       "      <td>NaN</td>\n",
       "      <td>NaN</td>\n",
       "      <td>NaN</td>\n",
       "    </tr>\n",
       "    <tr>\n",
       "      <th>1</th>\n",
       "      <td>59.0</td>\n",
       "      <td>ljubljana</td>\n",
       "      <td>LIDL BEŽIGRAD</td>\n",
       "      <td>Bežigrad 11</td>\n",
       "      <td>False</td>\n",
       "      <td>False</td>\n",
       "      <td>OPEN</td>\n",
       "      <td>2023-04-08T17:12:58Z</td>\n",
       "      <td>True</td>\n",
       "      <td>False</td>\n",
       "      <td>...</td>\n",
       "      <td>0.0</td>\n",
       "      <td>20.0</td>\n",
       "      <td>NaN</td>\n",
       "      <td>NaN</td>\n",
       "      <td>NaN</td>\n",
       "      <td>NaN</td>\n",
       "      <td>NaN</td>\n",
       "      <td>NaN</td>\n",
       "      <td>NaN</td>\n",
       "      <td>NaN</td>\n",
       "    </tr>\n",
       "    <tr>\n",
       "      <th>2</th>\n",
       "      <td>2010.0</td>\n",
       "      <td>lyon</td>\n",
       "      <td>2010 - CONFLUENCE / DARSE</td>\n",
       "      <td>ANGLE ALLEE ANDRE MURE ET QUAI ANTOINE RIBOUD</td>\n",
       "      <td>True</td>\n",
       "      <td>False</td>\n",
       "      <td>OPEN</td>\n",
       "      <td>2023-04-08T17:18:07Z</td>\n",
       "      <td>True</td>\n",
       "      <td>False</td>\n",
       "      <td>...</td>\n",
       "      <td>4.0</td>\n",
       "      <td>22.0</td>\n",
       "      <td>NaN</td>\n",
       "      <td>NaN</td>\n",
       "      <td>NaN</td>\n",
       "      <td>NaN</td>\n",
       "      <td>NaN</td>\n",
       "      <td>NaN</td>\n",
       "      <td>NaN</td>\n",
       "      <td>NaN</td>\n",
       "    </tr>\n",
       "    <tr>\n",
       "      <th>3</th>\n",
       "      <td>5015.0</td>\n",
       "      <td>lyon</td>\n",
       "      <td>5015 - FULCHIRON</td>\n",
       "      <td>Devant le n°41 rue de la Quarantaine</td>\n",
       "      <td>True</td>\n",
       "      <td>False</td>\n",
       "      <td>OPEN</td>\n",
       "      <td>2023-04-08T17:17:23Z</td>\n",
       "      <td>True</td>\n",
       "      <td>False</td>\n",
       "      <td>...</td>\n",
       "      <td>5.0</td>\n",
       "      <td>19.0</td>\n",
       "      <td>NaN</td>\n",
       "      <td>NaN</td>\n",
       "      <td>NaN</td>\n",
       "      <td>NaN</td>\n",
       "      <td>NaN</td>\n",
       "      <td>NaN</td>\n",
       "      <td>NaN</td>\n",
       "      <td>NaN</td>\n",
       "    </tr>\n",
       "    <tr>\n",
       "      <th>4</th>\n",
       "      <td>42.0</td>\n",
       "      <td>dublin</td>\n",
       "      <td>SMITHFIELD NORTH</td>\n",
       "      <td>Smithfield North</td>\n",
       "      <td>False</td>\n",
       "      <td>False</td>\n",
       "      <td>OPEN</td>\n",
       "      <td>2023-04-08T17:14:47Z</td>\n",
       "      <td>True</td>\n",
       "      <td>False</td>\n",
       "      <td>...</td>\n",
       "      <td>13.0</td>\n",
       "      <td>30.0</td>\n",
       "      <td>NaN</td>\n",
       "      <td>NaN</td>\n",
       "      <td>NaN</td>\n",
       "      <td>NaN</td>\n",
       "      <td>NaN</td>\n",
       "      <td>NaN</td>\n",
       "      <td>NaN</td>\n",
       "      <td>NaN</td>\n",
       "    </tr>\n",
       "  </tbody>\n",
       "</table>\n",
       "<p>5 rows × 36 columns</p>\n",
       "</div>"
      ],
      "text/plain": [
       "   number contractName                               name   \n",
       "0    55.0     toulouse  00055 - SAINT-SERNIN - G. ARNOULT  \\\n",
       "1    59.0    ljubljana                      LIDL BEŽIGRAD   \n",
       "2  2010.0         lyon          2010 - CONFLUENCE / DARSE   \n",
       "3  5015.0         lyon                   5015 - FULCHIRON   \n",
       "4    42.0       dublin                   SMITHFIELD NORTH   \n",
       "\n",
       "                                         address banking  bonus status   \n",
       "0                           2 RUE GATIEN ARNOULT    True  False   OPEN  \\\n",
       "1                                    Bežigrad 11   False  False   OPEN   \n",
       "2  ANGLE ALLEE ANDRE MURE ET QUAI ANTOINE RIBOUD    True  False   OPEN   \n",
       "3           Devant le n°41 rue de la Quarantaine    True  False   OPEN   \n",
       "4                               Smithfield North   False  False   OPEN   \n",
       "\n",
       "             lastUpdate connected overflow  ...   \n",
       "0  2023-04-08T17:20:01Z      True    False  ...  \\\n",
       "1  2023-04-08T17:12:58Z      True    False  ...   \n",
       "2  2023-04-08T17:18:07Z      True    False  ...   \n",
       "3  2023-04-08T17:17:23Z      True    False  ...   \n",
       "4  2023-04-08T17:14:47Z      True    False  ...   \n",
       "\n",
       "   mainStands.availabilities.electricalRemovableBatteryBikes   \n",
       "0                                                0.0          \\\n",
       "1                                                0.0           \n",
       "2                                                4.0           \n",
       "3                                                5.0           \n",
       "4                                               13.0           \n",
       "\n",
       "   mainStands.capacity  overflowStands.availabilities.bikes   \n",
       "0                 15.0                                  NaN  \\\n",
       "1                 20.0                                  NaN   \n",
       "2                 22.0                                  NaN   \n",
       "3                 19.0                                  NaN   \n",
       "4                 30.0                                  NaN   \n",
       "\n",
       "   overflowStands.availabilities.stands   \n",
       "0                                   NaN  \\\n",
       "1                                   NaN   \n",
       "2                                   NaN   \n",
       "3                                   NaN   \n",
       "4                                   NaN   \n",
       "\n",
       "   overflowStands.availabilities.mechanicalBikes   \n",
       "0                                            NaN  \\\n",
       "1                                            NaN   \n",
       "2                                            NaN   \n",
       "3                                            NaN   \n",
       "4                                            NaN   \n",
       "\n",
       "   overflowStands.availabilities.electricalBikes   \n",
       "0                                            NaN  \\\n",
       "1                                            NaN   \n",
       "2                                            NaN   \n",
       "3                                            NaN   \n",
       "4                                            NaN   \n",
       "\n",
       "   overflowStands.availabilities.electricalInternalBatteryBikes   \n",
       "0                                                NaN             \\\n",
       "1                                                NaN              \n",
       "2                                                NaN              \n",
       "3                                                NaN              \n",
       "4                                                NaN              \n",
       "\n",
       "   overflowStands.availabilities.electricalRemovableBatteryBikes   \n",
       "0                                                NaN              \\\n",
       "1                                                NaN               \n",
       "2                                                NaN               \n",
       "3                                                NaN               \n",
       "4                                                NaN               \n",
       "\n",
       "   overflowStands.capacity  error  \n",
       "0                      NaN    NaN  \n",
       "1                      NaN    NaN  \n",
       "2                      NaN    NaN  \n",
       "3                      NaN    NaN  \n",
       "4                      NaN    NaN  \n",
       "\n",
       "[5 rows x 36 columns]"
      ]
     },
     "execution_count": 105,
     "metadata": {},
     "output_type": "execute_result"
    }
   ],
   "source": [
    "details_df = pd.json_normalize(data = data)\n",
    "details_df.head()"
   ]
  },
  {
   "attachments": {},
   "cell_type": "markdown",
   "metadata": {},
   "source": [
    "Affichage des différentes colonnes du dataframe"
   ]
  },
  {
   "cell_type": "code",
   "execution_count": 106,
   "metadata": {},
   "outputs": [
    {
     "data": {
      "text/plain": [
       "Index(['number', 'contractName', 'name', 'address', 'banking', 'bonus',\n",
       "       'status', 'lastUpdate', 'connected', 'overflow', 'shape',\n",
       "       'overflowStands', 'position.latitude', 'position.longitude',\n",
       "       'totalStands.availabilities.bikes', 'totalStands.availabilities.stands',\n",
       "       'totalStands.availabilities.mechanicalBikes',\n",
       "       'totalStands.availabilities.electricalBikes',\n",
       "       'totalStands.availabilities.electricalInternalBatteryBikes',\n",
       "       'totalStands.availabilities.electricalRemovableBatteryBikes',\n",
       "       'totalStands.capacity', 'mainStands.availabilities.bikes',\n",
       "       'mainStands.availabilities.stands',\n",
       "       'mainStands.availabilities.mechanicalBikes',\n",
       "       'mainStands.availabilities.electricalBikes',\n",
       "       'mainStands.availabilities.electricalInternalBatteryBikes',\n",
       "       'mainStands.availabilities.electricalRemovableBatteryBikes',\n",
       "       'mainStands.capacity', 'overflowStands.availabilities.bikes',\n",
       "       'overflowStands.availabilities.stands',\n",
       "       'overflowStands.availabilities.mechanicalBikes',\n",
       "       'overflowStands.availabilities.electricalBikes',\n",
       "       'overflowStands.availabilities.electricalInternalBatteryBikes',\n",
       "       'overflowStands.availabilities.electricalRemovableBatteryBikes',\n",
       "       'overflowStands.capacity', 'error'],\n",
       "      dtype='object')"
      ]
     },
     "execution_count": 106,
     "metadata": {},
     "output_type": "execute_result"
    }
   ],
   "source": [
    "details_df.columns"
   ]
  },
  {
   "attachments": {},
   "cell_type": "markdown",
   "metadata": {},
   "source": [
    "Classement des villes avec le plus vélos"
   ]
  },
  {
   "cell_type": "code",
   "execution_count": 75,
   "metadata": {},
   "outputs": [],
   "source": [
    "bikes = details_df.groupby(by=\"contractName\", sort=True)[\"mainStands.availabilities.bikes\"].sum().sort_values(ascending=False)"
   ]
  },
  {
   "attachments": {},
   "cell_type": "markdown",
   "metadata": {},
   "source": [
    "Classement des villes avec le plus vélos de vélos méchaniques"
   ]
  },
  {
   "cell_type": "code",
   "execution_count": 76,
   "metadata": {},
   "outputs": [],
   "source": [
    "mechBikes = details_df.groupby(by=\"contractName\", sort=True)[\"mainStands.availabilities.mechanicalBikes\"].sum().sort_values(ascending=False)"
   ]
  },
  {
   "attachments": {},
   "cell_type": "markdown",
   "metadata": {},
   "source": [
    "Classement des villes avec le plus vélos de vélos électriques"
   ]
  },
  {
   "cell_type": "code",
   "execution_count": 78,
   "metadata": {},
   "outputs": [],
   "source": [
    "elecBikes = details_df.groupby(by=\"contractName\", sort=True)[\"mainStands.availabilities.electricalBikes\"].sum().sort_values(ascending=False)"
   ]
  },
  {
   "attachments": {},
   "cell_type": "markdown",
   "metadata": {},
   "source": [
    "Somme des vélos électriques et méchaniques"
   ]
  },
  {
   "cell_type": "code",
   "execution_count": 89,
   "metadata": {},
   "outputs": [
    {
     "name": "stdout",
     "output_type": "stream",
     "text": [
      "contractName\n",
      "lyon              4153\n",
      "bruxelles         3933\n",
      "toulouse          2548\n",
      "seville           2444\n",
      "valence           2422\n",
      "dublin            1356\n",
      "nantes            1008\n",
      "luxembourg         964\n",
      "ljubljana          646\n",
      "nancy              273\n",
      "cergy-pontoise     265\n",
      "amiens             248\n",
      "rouen              240\n",
      "namur              220\n",
      "maribor            212\n",
      "mulhouse           212\n",
      "toyama             209\n",
      "lund               206\n",
      "besancon           196\n",
      "santander          193\n",
      "creteil             63\n",
      "jcdecauxbike        24\n",
      "marseille           15\n",
      "lillestrom           0\n",
      "vilnius              0\n",
      "Name: mainStands.availabilities.bikes, dtype: int64\n"
     ]
    }
   ],
   "source": [
    "sum_Bikes = elecBikes + mechBikes\n",
    "print(bikes)"
   ]
  },
  {
   "attachments": {},
   "cell_type": "markdown",
   "metadata": {},
   "source": [
    "Pourcentage des vélos électriques dans chaque ville"
   ]
  },
  {
   "cell_type": "code",
   "execution_count": 90,
   "metadata": {},
   "outputs": [
    {
     "data": {
      "text/plain": [
       "contractName\n",
       "amiens            0.000000\n",
       "besancon          0.000000\n",
       "bruxelles         0.402376\n",
       "cergy-pontoise    0.000000\n",
       "creteil           0.000000\n",
       "dublin            0.346608\n",
       "jcdecauxbike      0.909091\n",
       "lillestrom        0.000000\n",
       "ljubljana         0.000000\n",
       "lund              0.000000\n",
       "luxembourg        1.000000\n",
       "lyon              0.483321\n",
       "maribor           0.000000\n",
       "marseille         0.000000\n",
       "mulhouse          0.000000\n",
       "namur             0.000000\n",
       "nancy             0.000000\n",
       "nantes            0.000000\n",
       "rouen             0.000000\n",
       "santander         0.000000\n",
       "seville           0.000000\n",
       "toulouse          0.000000\n",
       "toyama            0.000000\n",
       "valence           0.000000\n",
       "vilnius           0.000000\n",
       "dtype: float64"
      ]
     },
     "execution_count": 90,
     "metadata": {},
     "output_type": "execute_result"
    }
   ],
   "source": [
    "elecBikes / sum_Bikes"
   ]
  },
  {
   "attachments": {},
   "cell_type": "markdown",
   "metadata": {},
   "source": [
    "Pourcentage des vélos méchaniques dans chaque ville"
   ]
  },
  {
   "cell_type": "code",
   "execution_count": 91,
   "metadata": {},
   "outputs": [
    {
     "data": {
      "text/plain": [
       "contractName\n",
       "amiens            1.000000\n",
       "besancon          1.000000\n",
       "bruxelles         0.597624\n",
       "cergy-pontoise    1.000000\n",
       "creteil           1.000000\n",
       "dublin            0.653392\n",
       "jcdecauxbike      0.090909\n",
       "lillestrom        1.000000\n",
       "ljubljana         1.000000\n",
       "lund              1.000000\n",
       "luxembourg        0.000000\n",
       "lyon              0.516679\n",
       "maribor           1.000000\n",
       "marseille         1.000000\n",
       "mulhouse          1.000000\n",
       "namur             1.000000\n",
       "nancy             1.000000\n",
       "nantes            1.000000\n",
       "rouen             1.000000\n",
       "santander         1.000000\n",
       "seville           1.000000\n",
       "toulouse          1.000000\n",
       "toyama            1.000000\n",
       "valence           1.000000\n",
       "vilnius           1.000000\n",
       "dtype: float64"
      ]
     },
     "execution_count": 91,
     "metadata": {},
     "output_type": "execute_result"
    }
   ],
   "source": [
    "mechBikes / sum_Bikes"
   ]
  },
  {
   "attachments": {},
   "cell_type": "markdown",
   "metadata": {},
   "source": [
    "On peut remarquer qu'il n'y dans la plupart des villes que des vélos méchaniques contrairement aux vélos électriques qui sont rares"
   ]
  }
 ],
 "metadata": {
  "kernelspec": {
   "display_name": "Python 3",
   "language": "python",
   "name": "python3"
  },
  "language_info": {
   "codemirror_mode": {
    "name": "ipython",
    "version": 3
   },
   "file_extension": ".py",
   "mimetype": "text/x-python",
   "name": "python",
   "nbconvert_exporter": "python",
   "pygments_lexer": "ipython3",
   "version": "3.11.3"
  },
  "orig_nbformat": 4
 },
 "nbformat": 4,
 "nbformat_minor": 2
}
